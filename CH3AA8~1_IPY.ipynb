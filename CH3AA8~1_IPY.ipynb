{
  "nbformat": 4,
  "nbformat_minor": 0,
  "metadata": {
    "colab": {
      "name": "CH3AA8~1.IPY",
      "version": "0.3.2",
      "provenance": [],
      "toc_visible": true,
      "include_colab_link": true
    },
    "language_info": {
      "codemirror_mode": {
        "name": "ipython",
        "version": 3
      },
      "file_extension": ".py",
      "mimetype": "text/x-python",
      "name": "python",
      "nbconvert_exporter": "python",
      "pygments_lexer": "ipython3",
      "version": "3.6.3"
    },
    "kernelspec": {
      "display_name": "Python 3",
      "language": "python",
      "name": "python3"
    }
  },
  "cells": [
    {
      "cell_type": "markdown",
      "metadata": {
        "id": "view-in-github",
        "colab_type": "text"
      },
      "source": [
        "<a href=\"https://colab.research.google.com/github/rmediero/Deep-Learning-for-Time-Series-Forecasting-mini_course/blob/master/CH3AA8~1_IPY.ipynb\" target=\"_parent\"><img src=\"https://colab.research.google.com/assets/colab-badge.svg\" alt=\"Open In Colab\"/></a>"
      ]
    },
    {
      "cell_type": "markdown",
      "metadata": {
        "id": "lvwCm99Xnhnj",
        "colab_type": "text"
      },
      "source": [
        "## TextBlob"
      ]
    },
    {
      "cell_type": "code",
      "metadata": {
        "id": "dQ2wx8Slnhnq",
        "colab_type": "code",
        "colab": {}
      },
      "source": [
        "from textblob import TextBlob"
      ],
      "execution_count": 0,
      "outputs": []
    },
    {
      "cell_type": "markdown",
      "metadata": {
        "id": "WjEgNN-Inhn5",
        "colab_type": "text"
      },
      "source": [
        "#### Sentiment Calculation"
      ]
    },
    {
      "cell_type": "code",
      "metadata": {
        "id": "8pGAzsyVnhn9",
        "colab_type": "code",
        "colab": {}
      },
      "source": [
        "# Taking a statement as input\n",
        "statement = TextBlob(\"My home is far away from my school.\")"
      ],
      "execution_count": 0,
      "outputs": []
    },
    {
      "cell_type": "code",
      "metadata": {
        "id": "k4PJW8K9nhoF",
        "colab_type": "code",
        "colab": {
          "base_uri": "https://localhost:8080/",
          "height": 34
        },
        "outputId": "6f35bdba-e774-4286-b8da-013f9066872e"
      },
      "source": [
        "# Calculating the sentiment attached with the statement\n",
        "statement.sentiment"
      ],
      "execution_count": 3,
      "outputs": [
        {
          "output_type": "execute_result",
          "data": {
            "text/plain": [
              "Sentiment(polarity=0.1, subjectivity=1.0)"
            ]
          },
          "metadata": {
            "tags": []
          },
          "execution_count": 3
        }
      ]
    },
    {
      "cell_type": "code",
      "metadata": {
        "id": "v4wbQQsonhoQ",
        "colab_type": "code",
        "colab": {}
      },
      "source": [
        ""
      ],
      "execution_count": 0,
      "outputs": []
    },
    {
      "cell_type": "markdown",
      "metadata": {
        "id": "Bt5e9ZPVnhoU",
        "colab_type": "text"
      },
      "source": [
        "#### Part-Of-Speech Tagging"
      ]
    },
    {
      "cell_type": "code",
      "metadata": {
        "id": "bZL-F1Q6nhoV",
        "colab_type": "code",
        "colab": {}
      },
      "source": [
        "# Defining a sample text\n",
        "text = ''' How about you and I go together on a walk far away from this place, discussing the things\n",
        "        we have never discussed on Deep Learning and Natural Language Processing.'''"
      ],
      "execution_count": 0,
      "outputs": []
    },
    {
      "cell_type": "code",
      "metadata": {
        "id": "eH3t47tKnhoZ",
        "colab_type": "code",
        "colab": {}
      },
      "source": [
        "blob_ = TextBlob(text)             # Making it as Textblob object"
      ],
      "execution_count": 0,
      "outputs": []
    },
    {
      "cell_type": "code",
      "metadata": {
        "id": "tG6fOfV1nhoc",
        "colab_type": "code",
        "colab": {
          "base_uri": "https://localhost:8080/",
          "height": 51
        },
        "outputId": "cfaf535b-48a8-48fa-ff36-e420b97b1adc"
      },
      "source": [
        "blob_"
      ],
      "execution_count": 6,
      "outputs": [
        {
          "output_type": "execute_result",
          "data": {
            "text/plain": [
              "TextBlob(\" How about you and I go together on a walk far away from this place, discussing the things\n",
              "        we have never discussed on Deep Learning and Natural Language Processing.\")"
            ]
          },
          "metadata": {
            "tags": []
          },
          "execution_count": 6
        }
      ]
    },
    {
      "cell_type": "code",
      "metadata": {
        "id": "Ox2FzZYunhog",
        "colab_type": "code",
        "colab": {
          "base_uri": "https://localhost:8080/",
          "height": 646
        },
        "outputId": "ebb182a8-2e3a-4ce8-c029-63a9d0b384a5"
      },
      "source": [
        "# This part internally makes use of the 'punkt' resource from the NLTK package, make sure to download it before running this\n",
        "import nltk\n",
        "nltk.download('punkt')\n",
        "nltk.download('averaged_perceptron_tagger')\n",
        "nltk.download('omw')\n",
        "# Running this separately : python3.6 -m textblob.download_corpora\n",
        "blob_.tags"
      ],
      "execution_count": 27,
      "outputs": [
        {
          "output_type": "stream",
          "text": [
            "[nltk_data] Downloading package punkt to /root/nltk_data...\n",
            "[nltk_data]   Package punkt is already up-to-date!\n",
            "[nltk_data] Downloading package averaged_perceptron_tagger to\n",
            "[nltk_data]     /root/nltk_data...\n",
            "[nltk_data]   Package averaged_perceptron_tagger is already up-to-\n",
            "[nltk_data]       date!\n",
            "[nltk_data] Downloading package omw to /root/nltk_data...\n",
            "[nltk_data]   Package omw is already up-to-date!\n"
          ],
          "name": "stdout"
        },
        {
          "output_type": "execute_result",
          "data": {
            "text/plain": [
              "[('How', 'WRB'),\n",
              " ('about', 'IN'),\n",
              " ('you', 'PRP'),\n",
              " ('and', 'CC'),\n",
              " ('I', 'PRP'),\n",
              " ('go', 'VBP'),\n",
              " ('together', 'RB'),\n",
              " ('on', 'IN'),\n",
              " ('a', 'DT'),\n",
              " ('walk', 'NN'),\n",
              " ('far', 'RB'),\n",
              " ('away', 'RB'),\n",
              " ('from', 'IN'),\n",
              " ('this', 'DT'),\n",
              " ('place', 'NN'),\n",
              " ('discussing', 'VBG'),\n",
              " ('the', 'DT'),\n",
              " ('things', 'NNS'),\n",
              " ('we', 'PRP'),\n",
              " ('have', 'VBP'),\n",
              " ('never', 'RB'),\n",
              " ('discussed', 'VBN'),\n",
              " ('on', 'IN'),\n",
              " ('Deep', 'NNP'),\n",
              " ('Learning', 'NNP'),\n",
              " ('and', 'CC'),\n",
              " ('Natural', 'NNP'),\n",
              " ('Language', 'NNP'),\n",
              " ('Processing', 'NNP')]"
            ]
          },
          "metadata": {
            "tags": []
          },
          "execution_count": 27
        }
      ]
    },
    {
      "cell_type": "code",
      "metadata": {
        "id": "7f9OrLIMnhoj",
        "colab_type": "code",
        "colab": {}
      },
      "source": [
        ""
      ],
      "execution_count": 0,
      "outputs": []
    },
    {
      "cell_type": "markdown",
      "metadata": {
        "id": "kIqygINLnhol",
        "colab_type": "text"
      },
      "source": [
        "#### Spelling Correction"
      ]
    },
    {
      "cell_type": "code",
      "metadata": {
        "id": "4PrZpBTYnhom",
        "colab_type": "code",
        "colab": {}
      },
      "source": [
        "sample_ = TextBlob(\"I thinkk the model needs to be trained more!\")"
      ],
      "execution_count": 0,
      "outputs": []
    },
    {
      "cell_type": "code",
      "metadata": {
        "id": "J1aN5yL6nhoo",
        "colab_type": "code",
        "colab": {
          "base_uri": "https://localhost:8080/",
          "height": 34
        },
        "outputId": "51195155-0d69-4b23-b6a8-e5f7820769af"
      },
      "source": [
        "print(sample_.correct())"
      ],
      "execution_count": 10,
      "outputs": [
        {
          "output_type": "stream",
          "text": [
            "I think the model needs to be trained more!\n"
          ],
          "name": "stdout"
        }
      ]
    },
    {
      "cell_type": "code",
      "metadata": {
        "id": "E2dHhD6Mnhos",
        "colab_type": "code",
        "colab": {}
      },
      "source": [
        ""
      ],
      "execution_count": 0,
      "outputs": []
    },
    {
      "cell_type": "markdown",
      "metadata": {
        "id": "BJk7Iloqnhov",
        "colab_type": "text"
      },
      "source": [
        "#### Language Translation"
      ]
    },
    {
      "cell_type": "code",
      "metadata": {
        "id": "Br7ydOJXnhow",
        "colab_type": "code",
        "colab": {}
      },
      "source": [
        "# Language Translation\n",
        "lang_ = TextBlob(\"It hurts my face to be so handsome\")"
      ],
      "execution_count": 0,
      "outputs": []
    },
    {
      "cell_type": "code",
      "metadata": {
        "id": "pyKgUahTnhoy",
        "colab_type": "code",
        "colab": {
          "base_uri": "https://localhost:8080/",
          "height": 34
        },
        "outputId": "587aaff1-93e2-41cb-c6cb-4db91268fe13"
      },
      "source": [
        "lang_.translate(to='ar')"
      ],
      "execution_count": 34,
      "outputs": [
        {
          "output_type": "execute_result",
          "data": {
            "text/plain": [
              "TextBlob(\"يؤلمني أن أكون وسيمًا جدًا\")"
            ]
          },
          "metadata": {
            "tags": []
          },
          "execution_count": 34
        }
      ]
    },
    {
      "cell_type": "code",
      "metadata": {
        "id": "YNcNELADnho4",
        "colab_type": "code",
        "colab": {}
      },
      "source": [
        ""
      ],
      "execution_count": 0,
      "outputs": []
    },
    {
      "cell_type": "code",
      "metadata": {
        "id": "gQBqJrPGnho7",
        "colab_type": "code",
        "colab": {}
      },
      "source": [
        ""
      ],
      "execution_count": 0,
      "outputs": []
    },
    {
      "cell_type": "code",
      "metadata": {
        "id": "qN1v_FzJnho-",
        "colab_type": "code",
        "colab": {}
      },
      "source": [
        ""
      ],
      "execution_count": 0,
      "outputs": []
    },
    {
      "cell_type": "code",
      "metadata": {
        "id": "UjJH12TInhpB",
        "colab_type": "code",
        "colab": {}
      },
      "source": [
        ""
      ],
      "execution_count": 0,
      "outputs": []
    }
  ]
}